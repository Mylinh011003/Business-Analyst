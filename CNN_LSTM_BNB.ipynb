{
  "nbformat": 4,
  "nbformat_minor": 0,
  "metadata": {
    "colab": {
      "provenance": []
    },
    "kernelspec": {
      "name": "python3",
      "display_name": "Python 3"
    },
    "language_info": {
      "name": "python"
    }
  },
  "cells": [
    {
      "cell_type": "code",
      "execution_count": null,
      "metadata": {
        "id": "wHAwDIoKX4kU"
      },
      "outputs": [],
      "source": [
        "import numpy as np\n",
        "import pandas as pd\n",
        "from keras.models import Sequential\n",
        "from keras.layers import Conv1D, MaxPooling1D, LSTM, Dense, Flatten\n",
        "from sklearn.preprocessing import MinMaxScaler"
      ]
    },
    {
      "cell_type": "code",
      "source": [
        "df = pd.read_csv(\"/content/BNB-USD.csv\")"
      ],
      "metadata": {
        "id": "dbPH_DouYAKW"
      },
      "execution_count": null,
      "outputs": []
    },
    {
      "cell_type": "code",
      "source": [
        "df1=df.reset_index()['Close']"
      ],
      "metadata": {
        "id": "zyGanZ3JYKQC"
      },
      "execution_count": null,
      "outputs": []
    },
    {
      "cell_type": "code",
      "source": [
        "scaler=MinMaxScaler(feature_range=(0,1))\n",
        "df1=scaler.fit_transform(np.array(df1).reshape(-1,1))"
      ],
      "metadata": {
        "id": "Czy3vimyYOT8"
      },
      "execution_count": null,
      "outputs": []
    },
    {
      "cell_type": "code",
      "source": [
        "train_size = int(0.8 * len(df1))"
      ],
      "metadata": {
        "id": "7SHzRqgPYRKH"
      },
      "execution_count": null,
      "outputs": []
    },
    {
      "cell_type": "code",
      "source": [
        "def create_dataset_with_window(dataset, window_size=60):\n",
        "    # Tạo tập train\n",
        " train_X = []\n",
        " train_y = []\n",
        " for i in range(train_size - window_size):\n",
        "  train_X.append(dataset[i:i+window_size])\n",
        "  train_y.append(dataset[i+window_size])\n",
        "    # Tạo tập test\n",
        "  test_X = []\n",
        "  test_y = []\n",
        " for i in range(train_size, len(dataset) - window_size):\n",
        "  test_X.append(dataset[i:i+window_size])\n",
        "  test_y.append(dataset[i+window_size])\n",
        "# Chuyển đổi sang numpy array\n",
        " train_X, train_y, test_X, test_y = np.array(train_X), np.array(train_y), np.array(test_X), np.array(test_y)\n",
        " return train_X, train_y, test_X, test_y"
      ],
      "metadata": {
        "id": "vDIOJSewYXBL"
      },
      "execution_count": null,
      "outputs": []
    },
    {
      "cell_type": "code",
      "source": [
        "train_X, train_y, test_X, test_y = create_dataset_with_window(df1, window_size=60)"
      ],
      "metadata": {
        "id": "GBVSSp2SYawf"
      },
      "execution_count": null,
      "outputs": []
    },
    {
      "cell_type": "code",
      "source": [
        "model = Sequential()\n",
        "model.add(Conv1D(filters=64, kernel_size=3, activation='relu', input_shape=(60, 1)))\n",
        "model.add(MaxPooling1D(pool_size=2))\n",
        "model.add(LSTM(50, return_sequences=True))\n",
        "model.add(LSTM(50))\n",
        "model.add(Dense(1))\n",
        "model.compile(optimizer='adam', loss='mean_squared_error')"
      ],
      "metadata": {
        "id": "tHyOkW4bYcxq"
      },
      "execution_count": null,
      "outputs": []
    },
    {
      "cell_type": "code",
      "source": [
        "model.fit(train_X, train_y, epochs=100, batch_size=64, verbose=1)"
      ],
      "metadata": {
        "colab": {
          "base_uri": "https://localhost:8080/"
        },
        "id": "E5J2TPl3YgoS",
        "outputId": "870b6c0d-a80a-4f6d-c82f-58d2353739da"
      },
      "execution_count": null,
      "outputs": [
        {
          "output_type": "stream",
          "name": "stdout",
          "text": [
            "Epoch 1/100\n",
            "22/22 [==============================] - 6s 46ms/step - loss: 0.0320\n",
            "Epoch 2/100\n",
            "22/22 [==============================] - 1s 46ms/step - loss: 0.0075\n",
            "Epoch 3/100\n",
            "22/22 [==============================] - 1s 47ms/step - loss: 0.0051\n",
            "Epoch 4/100\n",
            "22/22 [==============================] - 2s 70ms/step - loss: 0.0042\n",
            "Epoch 5/100\n",
            "22/22 [==============================] - 2s 76ms/step - loss: 0.0036\n",
            "Epoch 6/100\n",
            "22/22 [==============================] - 2s 70ms/step - loss: 0.0029\n",
            "Epoch 7/100\n",
            "22/22 [==============================] - 1s 46ms/step - loss: 0.0026\n",
            "Epoch 8/100\n",
            "22/22 [==============================] - 1s 46ms/step - loss: 0.0024\n",
            "Epoch 9/100\n",
            "22/22 [==============================] - 1s 45ms/step - loss: 0.0022\n",
            "Epoch 10/100\n",
            "22/22 [==============================] - 1s 45ms/step - loss: 0.0022\n",
            "Epoch 11/100\n",
            "22/22 [==============================] - 1s 45ms/step - loss: 0.0020\n",
            "Epoch 12/100\n",
            "22/22 [==============================] - 1s 45ms/step - loss: 0.0024\n",
            "Epoch 13/100\n",
            "22/22 [==============================] - 1s 46ms/step - loss: 0.0020\n",
            "Epoch 14/100\n",
            "22/22 [==============================] - 1s 46ms/step - loss: 0.0018\n",
            "Epoch 15/100\n",
            "22/22 [==============================] - 1s 45ms/step - loss: 0.0015\n",
            "Epoch 16/100\n",
            "22/22 [==============================] - 1s 51ms/step - loss: 0.0014\n",
            "Epoch 17/100\n",
            "22/22 [==============================] - 2s 76ms/step - loss: 0.0013\n",
            "Epoch 18/100\n",
            "22/22 [==============================] - 2s 76ms/step - loss: 0.0012\n",
            "Epoch 19/100\n",
            "22/22 [==============================] - 1s 59ms/step - loss: 0.0014\n",
            "Epoch 20/100\n",
            "22/22 [==============================] - 1s 45ms/step - loss: 0.0011\n",
            "Epoch 21/100\n",
            "22/22 [==============================] - 1s 45ms/step - loss: 0.0011\n",
            "Epoch 22/100\n",
            "22/22 [==============================] - 1s 46ms/step - loss: 0.0011\n",
            "Epoch 23/100\n",
            "22/22 [==============================] - 1s 45ms/step - loss: 9.2929e-04\n",
            "Epoch 24/100\n",
            "22/22 [==============================] - 1s 46ms/step - loss: 8.7855e-04\n",
            "Epoch 25/100\n",
            "22/22 [==============================] - 1s 45ms/step - loss: 9.8201e-04\n",
            "Epoch 26/100\n",
            "22/22 [==============================] - 1s 47ms/step - loss: 8.7443e-04\n",
            "Epoch 27/100\n",
            "22/22 [==============================] - 1s 45ms/step - loss: 8.1118e-04\n",
            "Epoch 28/100\n",
            "22/22 [==============================] - 1s 46ms/step - loss: 8.1591e-04\n",
            "Epoch 29/100\n",
            "22/22 [==============================] - 1s 68ms/step - loss: 8.4743e-04\n",
            "Epoch 30/100\n",
            "22/22 [==============================] - 2s 79ms/step - loss: 9.2526e-04\n",
            "Epoch 31/100\n",
            "22/22 [==============================] - 2s 68ms/step - loss: 7.5407e-04\n",
            "Epoch 32/100\n",
            "22/22 [==============================] - 1s 46ms/step - loss: 7.3928e-04\n",
            "Epoch 33/100\n",
            "22/22 [==============================] - 1s 45ms/step - loss: 7.0592e-04\n",
            "Epoch 34/100\n",
            "22/22 [==============================] - 1s 45ms/step - loss: 7.4924e-04\n",
            "Epoch 35/100\n",
            "22/22 [==============================] - 1s 45ms/step - loss: 6.9973e-04\n",
            "Epoch 36/100\n",
            "22/22 [==============================] - 1s 47ms/step - loss: 7.0284e-04\n",
            "Epoch 37/100\n",
            "22/22 [==============================] - 1s 44ms/step - loss: 6.6148e-04\n",
            "Epoch 38/100\n",
            "22/22 [==============================] - 1s 47ms/step - loss: 6.4929e-04\n",
            "Epoch 39/100\n",
            "22/22 [==============================] - 1s 45ms/step - loss: 6.8814e-04\n",
            "Epoch 40/100\n",
            "22/22 [==============================] - 1s 47ms/step - loss: 6.6156e-04\n",
            "Epoch 41/100\n",
            "22/22 [==============================] - 1s 63ms/step - loss: 6.5857e-04\n",
            "Epoch 42/100\n",
            "22/22 [==============================] - 2s 75ms/step - loss: 6.2117e-04\n",
            "Epoch 43/100\n",
            "22/22 [==============================] - 2s 77ms/step - loss: 6.2345e-04\n",
            "Epoch 44/100\n",
            "22/22 [==============================] - 1s 47ms/step - loss: 6.7844e-04\n",
            "Epoch 45/100\n",
            "22/22 [==============================] - 1s 47ms/step - loss: 6.3442e-04\n",
            "Epoch 46/100\n",
            "22/22 [==============================] - 1s 47ms/step - loss: 6.1555e-04\n",
            "Epoch 47/100\n",
            "22/22 [==============================] - 1s 46ms/step - loss: 6.6855e-04\n",
            "Epoch 48/100\n",
            "22/22 [==============================] - 1s 46ms/step - loss: 6.9502e-04\n",
            "Epoch 49/100\n",
            "22/22 [==============================] - 1s 46ms/step - loss: 6.8184e-04\n",
            "Epoch 50/100\n",
            "22/22 [==============================] - 1s 46ms/step - loss: 6.1877e-04\n",
            "Epoch 51/100\n",
            "22/22 [==============================] - 1s 48ms/step - loss: 6.3074e-04\n",
            "Epoch 52/100\n",
            "22/22 [==============================] - 1s 49ms/step - loss: 6.0962e-04\n",
            "Epoch 53/100\n",
            "22/22 [==============================] - 1s 60ms/step - loss: 5.8736e-04\n",
            "Epoch 54/100\n",
            "22/22 [==============================] - 2s 75ms/step - loss: 6.0162e-04\n",
            "Epoch 55/100\n",
            "22/22 [==============================] - 2s 78ms/step - loss: 6.5045e-04\n",
            "Epoch 56/100\n",
            "22/22 [==============================] - 1s 48ms/step - loss: 6.9749e-04\n",
            "Epoch 57/100\n",
            "22/22 [==============================] - 1s 45ms/step - loss: 6.8087e-04\n",
            "Epoch 58/100\n",
            "22/22 [==============================] - 1s 46ms/step - loss: 6.5784e-04\n",
            "Epoch 59/100\n",
            "22/22 [==============================] - 1s 46ms/step - loss: 5.8032e-04\n",
            "Epoch 60/100\n",
            "22/22 [==============================] - 1s 48ms/step - loss: 6.1618e-04\n",
            "Epoch 61/100\n",
            "22/22 [==============================] - 1s 46ms/step - loss: 6.2298e-04\n",
            "Epoch 62/100\n",
            "22/22 [==============================] - 1s 46ms/step - loss: 5.6522e-04\n",
            "Epoch 63/100\n",
            "22/22 [==============================] - 1s 46ms/step - loss: 5.7262e-04\n",
            "Epoch 64/100\n",
            "22/22 [==============================] - 1s 46ms/step - loss: 5.8825e-04\n",
            "Epoch 65/100\n",
            "22/22 [==============================] - 1s 64ms/step - loss: 6.5473e-04\n",
            "Epoch 66/100\n",
            "22/22 [==============================] - 2s 84ms/step - loss: 6.2426e-04\n",
            "Epoch 67/100\n",
            "22/22 [==============================] - 2s 77ms/step - loss: 5.9294e-04\n",
            "Epoch 68/100\n",
            "22/22 [==============================] - 1s 58ms/step - loss: 5.7484e-04\n",
            "Epoch 69/100\n",
            "22/22 [==============================] - 1s 46ms/step - loss: 5.8738e-04\n",
            "Epoch 70/100\n",
            "22/22 [==============================] - 1s 47ms/step - loss: 5.7531e-04\n",
            "Epoch 71/100\n",
            "22/22 [==============================] - 1s 48ms/step - loss: 5.8494e-04\n",
            "Epoch 72/100\n",
            "22/22 [==============================] - 1s 47ms/step - loss: 5.7653e-04\n",
            "Epoch 73/100\n",
            "22/22 [==============================] - 1s 48ms/step - loss: 6.0767e-04\n",
            "Epoch 74/100\n",
            "22/22 [==============================] - 1s 47ms/step - loss: 5.7012e-04\n",
            "Epoch 75/100\n",
            "22/22 [==============================] - 1s 47ms/step - loss: 5.9860e-04\n",
            "Epoch 76/100\n",
            "22/22 [==============================] - 1s 50ms/step - loss: 5.9564e-04\n",
            "Epoch 77/100\n",
            "22/22 [==============================] - 1s 50ms/step - loss: 5.6033e-04\n",
            "Epoch 78/100\n",
            "22/22 [==============================] - 3s 122ms/step - loss: 5.6157e-04\n",
            "Epoch 79/100\n",
            "22/22 [==============================] - 2s 68ms/step - loss: 5.5398e-04\n",
            "Epoch 80/100\n",
            "22/22 [==============================] - 1s 47ms/step - loss: 5.8646e-04\n",
            "Epoch 81/100\n",
            "22/22 [==============================] - 1s 47ms/step - loss: 5.7726e-04\n",
            "Epoch 82/100\n",
            "22/22 [==============================] - 1s 46ms/step - loss: 6.7445e-04\n",
            "Epoch 83/100\n",
            "22/22 [==============================] - 1s 48ms/step - loss: 5.8148e-04\n",
            "Epoch 84/100\n",
            "22/22 [==============================] - 1s 49ms/step - loss: 5.9590e-04\n",
            "Epoch 85/100\n",
            "22/22 [==============================] - 1s 47ms/step - loss: 5.9073e-04\n",
            "Epoch 86/100\n",
            "22/22 [==============================] - 1s 48ms/step - loss: 5.4091e-04\n",
            "Epoch 87/100\n",
            "22/22 [==============================] - 1s 47ms/step - loss: 5.6699e-04\n",
            "Epoch 88/100\n",
            "22/22 [==============================] - 1s 47ms/step - loss: 5.6730e-04\n",
            "Epoch 89/100\n",
            "22/22 [==============================] - 2s 72ms/step - loss: 5.7798e-04\n",
            "Epoch 90/100\n",
            "22/22 [==============================] - 2s 76ms/step - loss: 5.8253e-04\n",
            "Epoch 91/100\n",
            "22/22 [==============================] - 2s 69ms/step - loss: 6.4566e-04\n",
            "Epoch 92/100\n",
            "22/22 [==============================] - 1s 48ms/step - loss: 7.7594e-04\n",
            "Epoch 93/100\n",
            "22/22 [==============================] - 1s 49ms/step - loss: 5.6761e-04\n",
            "Epoch 94/100\n",
            "22/22 [==============================] - 1s 46ms/step - loss: 5.8228e-04\n",
            "Epoch 95/100\n",
            "22/22 [==============================] - 1s 50ms/step - loss: 6.1363e-04\n",
            "Epoch 96/100\n",
            "22/22 [==============================] - 1s 49ms/step - loss: 6.4816e-04\n",
            "Epoch 97/100\n",
            "22/22 [==============================] - 1s 50ms/step - loss: 5.5809e-04\n",
            "Epoch 98/100\n",
            "22/22 [==============================] - 1s 54ms/step - loss: 6.0763e-04\n",
            "Epoch 99/100\n",
            "22/22 [==============================] - 1s 50ms/step - loss: 5.8143e-04\n",
            "Epoch 100/100\n",
            "22/22 [==============================] - 1s 58ms/step - loss: 5.7164e-04\n"
          ]
        },
        {
          "output_type": "execute_result",
          "data": {
            "text/plain": [
              "<keras.src.callbacks.History at 0x7a36f00c4610>"
            ]
          },
          "metadata": {},
          "execution_count": 9
        }
      ]
    },
    {
      "cell_type": "code",
      "source": [
        "predictions = model.predict(test_X)"
      ],
      "metadata": {
        "colab": {
          "base_uri": "https://localhost:8080/"
        },
        "id": "exXM0dnkZIhM",
        "outputId": "55d0ea86-b323-4df6-ddf1-3f1d680a740e"
      },
      "execution_count": null,
      "outputs": [
        {
          "output_type": "stream",
          "name": "stdout",
          "text": [
            "10/10 [==============================] - 1s 20ms/step\n"
          ]
        }
      ]
    },
    {
      "cell_type": "code",
      "source": [
        "predictions = scaler.inverse_transform(predictions)\n",
        "test_y = scaler.inverse_transform(test_y)"
      ],
      "metadata": {
        "id": "LUuuc9MZZNce"
      },
      "execution_count": null,
      "outputs": []
    },
    {
      "cell_type": "code",
      "source": [
        "test_rmse = np.sqrt(np.mean((predictions - test_y)**2))\n",
        "test_mape = np.mean(np.abs((test_y - predictions) / test_y)) * 100\n",
        "test_mse = np.mean((np.array(test_y) - np.array(predictions))**2)\n",
        "print('Testing RMSE:', test_rmse)\n",
        "print('Testing MAPE:', test_mape)\n",
        "print('Testing MSE:', test_mse)"
      ],
      "metadata": {
        "colab": {
          "base_uri": "https://localhost:8080/"
        },
        "id": "Z7NWEa6_ZRcJ",
        "outputId": "5d5e746d-18f1-4982-ceb4-2a10b1a54598"
      },
      "execution_count": null,
      "outputs": [
        {
          "output_type": "stream",
          "name": "stdout",
          "text": [
            "Testing RMSE: 9.175287511869284\n",
            "Testing MAPE: 2.3787942184538897\n",
            "Testing MSE: 84.18590092546444\n"
          ]
        }
      ]
    },
    {
      "cell_type": "code",
      "source": [
        "# Chuẩn bị dữ liệu đầu vào cho dự đoán\n",
        "df1_restored = pd.DataFrame(df1, columns=['Close'])\n",
        "X_input= np.array([df1_restored[-60:]])  # Sử dụng dữ liệu cuối cùng trong tập dữ liệu\n",
        "# Sử dụng mô hình đã huấn luyện để dự đoán giá cổ phiếu cho 30 ngày tiếp theo\n",
        "predicted_prices = []\n",
        "for i in range(30):\n",
        "    # Dự đoán giá cổ phiếu cho một ngày tiếp theo\n",
        "    next_price = model.predict(X_input)\n",
        "    predicted_prices.append(next_price)\n",
        "\n",
        "    # Cập nhật dữ liệu đầu vào cho dự đoán tiếp theo\n",
        "    X_input = np.roll(X_input, -1, axis=1)  # Dịch dữ liệu qua trái một bước\n",
        "    X_input[0, -1] = next_price  # Cập nhật giá dự đoán vào vị trí cuối cùng của dữ liệu đầu vào\n",
        "    i = i + 1"
      ],
      "metadata": {
        "colab": {
          "base_uri": "https://localhost:8080/"
        },
        "id": "tcGADfPsZWBU",
        "outputId": "d291e23c-46d7-4e59-e0c5-53c6b439131e"
      },
      "execution_count": null,
      "outputs": [
        {
          "output_type": "stream",
          "name": "stdout",
          "text": [
            "1/1 [==============================] - 0s 42ms/step\n",
            "1/1 [==============================] - 0s 51ms/step\n",
            "1/1 [==============================] - 0s 43ms/step\n",
            "1/1 [==============================] - 0s 48ms/step\n",
            "1/1 [==============================] - 0s 51ms/step\n",
            "1/1 [==============================] - 0s 46ms/step\n",
            "1/1 [==============================] - 0s 48ms/step\n",
            "1/1 [==============================] - 0s 57ms/step\n",
            "1/1 [==============================] - 0s 53ms/step\n",
            "1/1 [==============================] - 0s 43ms/step\n",
            "1/1 [==============================] - 0s 47ms/step\n",
            "1/1 [==============================] - 0s 43ms/step\n",
            "1/1 [==============================] - 0s 46ms/step\n",
            "1/1 [==============================] - 0s 54ms/step\n",
            "1/1 [==============================] - 0s 46ms/step\n",
            "1/1 [==============================] - 0s 47ms/step\n",
            "1/1 [==============================] - 0s 28ms/step\n",
            "1/1 [==============================] - 0s 32ms/step\n",
            "1/1 [==============================] - 0s 35ms/step\n",
            "1/1 [==============================] - 0s 39ms/step\n",
            "1/1 [==============================] - 0s 29ms/step\n",
            "1/1 [==============================] - 0s 31ms/step\n",
            "1/1 [==============================] - 0s 45ms/step\n",
            "1/1 [==============================] - 0s 34ms/step\n",
            "1/1 [==============================] - 0s 36ms/step\n",
            "1/1 [==============================] - 0s 33ms/step\n",
            "1/1 [==============================] - 0s 41ms/step\n",
            "1/1 [==============================] - 0s 32ms/step\n",
            "1/1 [==============================] - 0s 32ms/step\n",
            "1/1 [==============================] - 0s 43ms/step\n"
          ]
        }
      ]
    },
    {
      "cell_type": "code",
      "source": [
        "import matplotlib.pyplot as plt"
      ],
      "metadata": {
        "id": "dzlI0_f-Zj-p"
      },
      "execution_count": null,
      "outputs": []
    },
    {
      "cell_type": "code",
      "source": [
        "def plot_predictions(train_actual, test_actual, test_predictions, future_predictions):\n",
        "    train_actual = scaler.inverse_transform(train_actual)\n",
        "    test_actual = test_actual[:, 0]\n",
        "    test_predictions = test_predictions[:, 0]\n",
        "    future_predictions_2d = np.squeeze(future_predictions)  # Loại bỏ các chiều không cần thiết\n",
        "    future_predictions_2d = future_predictions_2d.reshape(-1, 1)  # Chuyển đổi thành mảng 2D với 1 cột\n",
        "    # Vẽ tập train\n",
        "    plt.plot(train_actual, label='Train')\n",
        "\n",
        "    # Vẽ tập test\n",
        "    plt.plot(range(len(train_actual), len(train_actual) + len(test_actual)), test_actual, label='Test')\n",
        "\n",
        "    # Vẽ kết quả predict trên tập test\n",
        "    plt.plot(range(len(train_actual), len(train_actual) + len(test_actual)), test_predictions, label='Prediction')\n",
        "\n",
        "    # Vẽ kết quả dự đoán 30 ngày\n",
        "    plt.plot(range(len(train_actual) + len(test_actual), len(train_actual) + len(test_actual) + len(future_predictions)), scaler.inverse_transform(future_predictions_2d), label='Predict30NextDay')\n",
        "\n",
        "    plt.legend()\n",
        "    plt.show()"
      ],
      "metadata": {
        "id": "NXAIKYflZo5v"
      },
      "execution_count": null,
      "outputs": []
    },
    {
      "cell_type": "code",
      "source": [
        "plot_predictions(train_y, test_y, predictions, predicted_prices)"
      ],
      "metadata": {
        "colab": {
          "base_uri": "https://localhost:8080/",
          "height": 431
        },
        "id": "U0n0wdl3Zr6U",
        "outputId": "15ca4871-be7e-4822-a634-b522ff36aafc"
      },
      "execution_count": null,
      "outputs": [
        {
          "output_type": "display_data",
          "data": {
            "text/plain": [
              "<Figure size 640x480 with 1 Axes>"
            ],
            "image/png": "[encoded data removed]"
          },
          "metadata": {}
        }
      ]
    },
    {
      "cell_type": "code",
      "source": [
        "train_size = int(0.7 * len(df1))"
      ],
      "metadata": {
        "id": "qm_pWok-cID4"
      },
      "execution_count": null,
      "outputs": []
    },
    {
      "cell_type": "code",
      "source": [
        "train_X_73, train_y_73, test_X_73, test_y_73 = create_dataset_with_window(df1, window_size=60)"
      ],
      "metadata": {
        "id": "Gp_WBHQUcizN"
      },
      "execution_count": null,
      "outputs": []
    },
    {
      "cell_type": "code",
      "source": [
        "model.fit(train_X_73, train_y_73, epochs=100, batch_size=64, verbose=1)"
      ],
      "metadata": {
        "colab": {
          "base_uri": "https://localhost:8080/"
        },
        "id": "p1upJfaHc4ek",
        "outputId": "ebc70d18-f969-469c-e98e-5c63923ca25c"
      },
      "execution_count": null,
      "outputs": [
        {
          "output_type": "stream",
          "name": "stdout",
          "text": [
            "Epoch 1/100\n",
            "20/20 [==============================] - 1s 50ms/step - loss: 6.8573e-04\n",
            "Epoch 2/100\n",
            "20/20 [==============================] - 1s 55ms/step - loss: 6.3445e-04\n",
            "Epoch 3/100\n",
            "20/20 [==============================] - 1s 49ms/step - loss: 6.4218e-04\n",
            "Epoch 4/100\n",
            "20/20 [==============================] - 1s 50ms/step - loss: 7.1017e-04\n",
            "Epoch 5/100\n",
            "20/20 [==============================] - 1s 49ms/step - loss: 5.9235e-04\n",
            "Epoch 6/100\n",
            "20/20 [==============================] - 1s 52ms/step - loss: 6.2442e-04\n",
            "Epoch 7/100\n",
            "20/20 [==============================] - 1s 52ms/step - loss: 6.6588e-04\n",
            "Epoch 8/100\n",
            "20/20 [==============================] - 1s 69ms/step - loss: 6.1553e-04\n",
            "Epoch 9/100\n",
            "20/20 [==============================] - 2s 88ms/step - loss: 6.7466e-04\n",
            "Epoch 10/100\n",
            "20/20 [==============================] - 2s 96ms/step - loss: 6.8199e-04\n",
            "Epoch 11/100\n",
            "20/20 [==============================] - 1s 62ms/step - loss: 5.9608e-04\n",
            "Epoch 12/100\n",
            "20/20 [==============================] - 1s 59ms/step - loss: 6.7347e-04\n",
            "Epoch 13/100\n",
            "20/20 [==============================] - 1s 53ms/step - loss: 6.7054e-04\n",
            "Epoch 14/100\n",
            "20/20 [==============================] - 1s 48ms/step - loss: 6.2427e-04\n",
            "Epoch 15/100\n",
            "20/20 [==============================] - 1s 50ms/step - loss: 5.9569e-04\n",
            "Epoch 16/100\n",
            "20/20 [==============================] - 1s 52ms/step - loss: 6.2635e-04\n",
            "Epoch 17/100\n",
            "20/20 [==============================] - 1s 50ms/step - loss: 6.8447e-04\n",
            "Epoch 18/100\n",
            "20/20 [==============================] - 1s 56ms/step - loss: 6.2549e-04\n",
            "Epoch 19/100\n",
            "20/20 [==============================] - 1s 54ms/step - loss: 5.9649e-04\n",
            "Epoch 20/100\n",
            "20/20 [==============================] - 2s 80ms/step - loss: 6.1888e-04\n",
            "Epoch 21/100\n",
            "20/20 [==============================] - 2s 83ms/step - loss: 6.5617e-04\n",
            "Epoch 22/100\n",
            "20/20 [==============================] - 2s 78ms/step - loss: 6.4397e-04\n",
            "Epoch 23/100\n",
            "20/20 [==============================] - 1s 52ms/step - loss: 5.9304e-04\n",
            "Epoch 24/100\n",
            "20/20 [==============================] - 1s 50ms/step - loss: 6.2520e-04\n",
            "Epoch 25/100\n",
            "20/20 [==============================] - 1s 52ms/step - loss: 5.9749e-04\n",
            "Epoch 26/100\n",
            "20/20 [==============================] - 1s 54ms/step - loss: 5.8280e-04\n",
            "Epoch 27/100\n",
            "20/20 [==============================] - 1s 47ms/step - loss: 6.1042e-04\n",
            "Epoch 28/100\n",
            "20/20 [==============================] - 1s 47ms/step - loss: 6.6733e-04\n",
            "Epoch 29/100\n",
            "20/20 [==============================] - 1s 46ms/step - loss: 7.4348e-04\n",
            "Epoch 30/100\n",
            "20/20 [==============================] - 1s 45ms/step - loss: 6.0443e-04\n",
            "Epoch 31/100\n",
            "20/20 [==============================] - 1s 48ms/step - loss: 5.8977e-04\n",
            "Epoch 32/100\n",
            "20/20 [==============================] - 1s 47ms/step - loss: 6.2153e-04\n",
            "Epoch 33/100\n",
            "20/20 [==============================] - 2s 76ms/step - loss: 6.0177e-04\n",
            "Epoch 34/100\n",
            "20/20 [==============================] - 2s 75ms/step - loss: 5.7492e-04\n",
            "Epoch 35/100\n",
            "20/20 [==============================] - 1s 57ms/step - loss: 5.7106e-04\n",
            "Epoch 36/100\n",
            "20/20 [==============================] - 1s 45ms/step - loss: 0.0012\n",
            "Epoch 37/100\n",
            "20/20 [==============================] - 1s 46ms/step - loss: 9.4788e-04\n",
            "Epoch 38/100\n",
            "20/20 [==============================] - 1s 46ms/step - loss: 6.5530e-04\n",
            "Epoch 39/100\n",
            "20/20 [==============================] - 1s 45ms/step - loss: 6.2759e-04\n",
            "Epoch 40/100\n",
            "20/20 [==============================] - 1s 46ms/step - loss: 5.9303e-04\n",
            "Epoch 41/100\n",
            "20/20 [==============================] - 1s 46ms/step - loss: 5.7635e-04\n",
            "Epoch 42/100\n",
            "20/20 [==============================] - 1s 43ms/step - loss: 8.8560e-04\n",
            "Epoch 43/100\n",
            "20/20 [==============================] - 1s 46ms/step - loss: 6.4476e-04\n",
            "Epoch 44/100\n",
            "20/20 [==============================] - 1s 46ms/step - loss: 6.5791e-04\n",
            "Epoch 45/100\n",
            "20/20 [==============================] - 2s 80ms/step - loss: 8.4900e-04\n",
            "Epoch 46/100\n",
            "20/20 [==============================] - 1s 73ms/step - loss: 5.6809e-04\n",
            "Epoch 47/100\n",
            "20/20 [==============================] - 1s 75ms/step - loss: 5.6672e-04\n",
            "Epoch 48/100\n",
            "20/20 [==============================] - 1s 69ms/step - loss: 6.1887e-04\n",
            "Epoch 49/100\n",
            "20/20 [==============================] - 1s 45ms/step - loss: 5.9557e-04\n",
            "Epoch 50/100\n",
            "20/20 [==============================] - 1s 45ms/step - loss: 6.4136e-04\n",
            "Epoch 51/100\n",
            "20/20 [==============================] - 1s 44ms/step - loss: 6.2469e-04\n",
            "Epoch 52/100\n",
            "20/20 [==============================] - 1s 47ms/step - loss: 5.9807e-04\n",
            "Epoch 53/100\n",
            "20/20 [==============================] - 1s 47ms/step - loss: 8.4700e-04\n",
            "Epoch 54/100\n",
            "20/20 [==============================] - 1s 47ms/step - loss: 7.2531e-04\n",
            "Epoch 55/100\n",
            "20/20 [==============================] - 1s 45ms/step - loss: 6.3030e-04\n",
            "Epoch 56/100\n",
            "20/20 [==============================] - 1s 47ms/step - loss: 6.7206e-04\n",
            "Epoch 57/100\n",
            "20/20 [==============================] - 1s 46ms/step - loss: 6.1067e-04\n",
            "Epoch 58/100\n",
            "20/20 [==============================] - 1s 45ms/step - loss: 5.8183e-04\n",
            "Epoch 59/100\n",
            "20/20 [==============================] - 1s 55ms/step - loss: 5.6844e-04\n",
            "Epoch 60/100\n",
            "20/20 [==============================] - 2s 76ms/step - loss: 5.8089e-04\n",
            "Epoch 61/100\n",
            "20/20 [==============================] - 2s 77ms/step - loss: 6.1905e-04\n",
            "Epoch 62/100\n",
            "20/20 [==============================] - 1s 55ms/step - loss: 0.0014\n",
            "Epoch 63/100\n",
            "20/20 [==============================] - 1s 45ms/step - loss: 7.0570e-04\n",
            "Epoch 64/100\n",
            "20/20 [==============================] - 1s 44ms/step - loss: 6.2740e-04\n",
            "Epoch 65/100\n",
            "20/20 [==============================] - 1s 46ms/step - loss: 5.8339e-04\n",
            "Epoch 66/100\n",
            "20/20 [==============================] - 1s 46ms/step - loss: 5.6756e-04\n",
            "Epoch 67/100\n",
            "20/20 [==============================] - 1s 45ms/step - loss: 5.5704e-04\n",
            "Epoch 68/100\n",
            "20/20 [==============================] - 1s 47ms/step - loss: 5.4751e-04\n",
            "Epoch 69/100\n",
            "20/20 [==============================] - 1s 46ms/step - loss: 5.5267e-04\n",
            "Epoch 70/100\n",
            "20/20 [==============================] - 1s 45ms/step - loss: 6.0337e-04\n",
            "Epoch 71/100\n",
            "20/20 [==============================] - 1s 45ms/step - loss: 6.5791e-04\n",
            "Epoch 72/100\n",
            "20/20 [==============================] - 1s 46ms/step - loss: 5.6720e-04\n",
            "Epoch 73/100\n",
            "20/20 [==============================] - 1s 72ms/step - loss: 8.6555e-04\n",
            "Epoch 74/100\n",
            "20/20 [==============================] - 2s 78ms/step - loss: 6.7688e-04\n",
            "Epoch 75/100\n",
            "20/20 [==============================] - 2s 78ms/step - loss: 6.2761e-04\n",
            "Epoch 76/100\n",
            "20/20 [==============================] - 1s 52ms/step - loss: 5.6718e-04\n",
            "Epoch 77/100\n",
            "20/20 [==============================] - 1s 49ms/step - loss: 6.0239e-04\n",
            "Epoch 78/100\n",
            "20/20 [==============================] - 1s 47ms/step - loss: 7.2862e-04\n",
            "Epoch 79/100\n",
            "20/20 [==============================] - 1s 53ms/step - loss: 5.6741e-04\n",
            "Epoch 80/100\n",
            "20/20 [==============================] - 1s 48ms/step - loss: 9.1302e-04\n",
            "Epoch 81/100\n",
            "20/20 [==============================] - 1s 47ms/step - loss: 5.9584e-04\n",
            "Epoch 82/100\n",
            "20/20 [==============================] - 1s 46ms/step - loss: 5.5808e-04\n",
            "Epoch 83/100\n",
            "20/20 [==============================] - 1s 46ms/step - loss: 5.7553e-04\n",
            "Epoch 84/100\n",
            "20/20 [==============================] - 1s 48ms/step - loss: 6.5666e-04\n",
            "Epoch 85/100\n",
            "20/20 [==============================] - 1s 49ms/step - loss: 6.3132e-04\n",
            "Epoch 86/100\n",
            "20/20 [==============================] - 1s 62ms/step - loss: 5.8271e-04\n",
            "Epoch 87/100\n",
            "20/20 [==============================] - 2s 80ms/step - loss: 5.5685e-04\n",
            "Epoch 88/100\n",
            "20/20 [==============================] - 2s 80ms/step - loss: 5.8784e-04\n",
            "Epoch 89/100\n",
            "20/20 [==============================] - 1s 46ms/step - loss: 6.1645e-04\n",
            "Epoch 90/100\n",
            "20/20 [==============================] - 1s 47ms/step - loss: 6.7382e-04\n",
            "Epoch 91/100\n",
            "20/20 [==============================] - 1s 50ms/step - loss: 6.7844e-04\n",
            "Epoch 92/100\n",
            "20/20 [==============================] - 1s 48ms/step - loss: 6.7236e-04\n",
            "Epoch 93/100\n",
            "20/20 [==============================] - 1s 46ms/step - loss: 7.5809e-04\n",
            "Epoch 94/100\n",
            "20/20 [==============================] - 1s 46ms/step - loss: 7.1426e-04\n",
            "Epoch 95/100\n",
            "20/20 [==============================] - 1s 47ms/step - loss: 5.6555e-04\n",
            "Epoch 96/100\n",
            "20/20 [==============================] - 1s 47ms/step - loss: 6.5287e-04\n",
            "Epoch 97/100\n",
            "20/20 [==============================] - 1s 46ms/step - loss: 5.5919e-04\n",
            "Epoch 98/100\n",
            "20/20 [==============================] - 1s 47ms/step - loss: 5.8189e-04\n",
            "Epoch 99/100\n",
            "20/20 [==============================] - 1s 57ms/step - loss: 5.7301e-04\n",
            "Epoch 100/100\n",
            "20/20 [==============================] - 2s 74ms/step - loss: 9.7978e-04\n"
          ]
        },
        {
          "output_type": "execute_result",
          "data": {
            "text/plain": [
              "<keras.src.callbacks.History at 0x7a36eae9ce50>"
            ]
          },
          "metadata": {},
          "execution_count": 19
        }
      ]
    },
    {
      "cell_type": "code",
      "source": [
        "predictions_73 = model.predict(test_X_73)"
      ],
      "metadata": {
        "colab": {
          "base_uri": "https://localhost:8080/"
        },
        "id": "h41zx11idqOm",
        "outputId": "e8f1f87a-b507-46a3-f468-30b040b8671b"
      },
      "execution_count": null,
      "outputs": [
        {
          "output_type": "stream",
          "name": "stdout",
          "text": [
            "16/16 [==============================] - 0s 11ms/step\n"
          ]
        }
      ]
    },
    {
      "cell_type": "code",
      "source": [
        "predictions_73 = scaler.inverse_transform(predictions_73)\n",
        "test_y_73 = scaler.inverse_transform(test_y_73)"
      ],
      "metadata": {
        "id": "hR1Mju5jdz68"
      },
      "execution_count": null,
      "outputs": []
    },
    {
      "cell_type": "code",
      "source": [
        "test_rmse = np.sqrt(np.mean((predictions_73 - test_y_73)**2))\n",
        "test_mape = np.mean(np.abs((test_y_73 - predictions_73) / test_y_73)) * 100\n",
        "test_mse = np.mean((np.array(test_y_73) - np.array(predictions_73))**2)\n",
        "print('Testing RMSE:', test_rmse)\n",
        "print('Testing MAPE:', test_mape)\n",
        "print('Testing MSE:', test_mse)"
      ],
      "metadata": {
        "colab": {
          "base_uri": "https://localhost:8080/"
        },
        "id": "fSptfv2bd_MP",
        "outputId": "f950bc7d-c347-4ec9-c50a-5a794c50e42b"
      },
      "execution_count": null,
      "outputs": [
        {
          "output_type": "stream",
          "name": "stdout",
          "text": [
            "Testing RMSE: 21.73601944253295\n",
            "Testing MAPE: 7.531119010156699\n",
            "Testing MSE: 472.4545412061704\n"
          ]
        }
      ]
    },
    {
      "cell_type": "code",
      "source": [
        "df1_restored = pd.DataFrame(df1, columns=['Close'])\n",
        "X_input_73= np.array([df1_restored[-60:]])  # Sử dụng dữ liệu cuối cùng trong tập dữ liệu\n",
        "# Sử dụng mô hình đã huấn luyện để dự đoán giá cổ phiếu cho 30 ngày tiếp theo\n",
        "predicted_prices_73 = []\n",
        "for i in range(30):\n",
        "    # Dự đoán giá cổ phiếu cho một ngày tiếp theo\n",
        "    next_price_73 = model.predict(X_input_73)\n",
        "    predicted_prices_73.append(next_price_73)\n",
        "\n",
        "    # Cập nhật dữ liệu đầu vào cho dự đoán tiếp theo\n",
        "    X_input_73 = np.roll(X_input_73, -1, axis=1)  # Dịch dữ liệu qua trái một bước\n",
        "    X_input_73[0, -1] = next_price_73  # Cập nhật giá dự đoán vào vị trí cuối cùng của dữ liệu đầu vào\n",
        "    i = i + 1"
      ],
      "metadata": {
        "colab": {
          "base_uri": "https://localhost:8080/"
        },
        "id": "0vS3xZl3ePnj",
        "outputId": "bdab6e1a-6601-4d67-eb7c-ed451da17ce9"
      },
      "execution_count": null,
      "outputs": [
        {
          "output_type": "stream",
          "name": "stdout",
          "text": [
            "1/1 [==============================] - 0s 30ms/step\n",
            "1/1 [==============================] - 0s 28ms/step\n",
            "1/1 [==============================] - 0s 27ms/step\n",
            "1/1 [==============================] - 0s 30ms/step\n",
            "1/1 [==============================] - 0s 30ms/step\n",
            "1/1 [==============================] - 0s 30ms/step\n",
            "1/1 [==============================] - 0s 27ms/step\n",
            "1/1 [==============================] - 0s 27ms/step\n",
            "1/1 [==============================] - 0s 26ms/step\n",
            "1/1 [==============================] - 0s 30ms/step\n",
            "1/1 [==============================] - 0s 29ms/step\n",
            "1/1 [==============================] - 0s 27ms/step\n",
            "1/1 [==============================] - 0s 28ms/step\n",
            "1/1 [==============================] - 0s 28ms/step\n",
            "1/1 [==============================] - 0s 29ms/step\n",
            "1/1 [==============================] - 0s 27ms/step\n",
            "1/1 [==============================] - 0s 35ms/step\n",
            "1/1 [==============================] - 0s 27ms/step\n",
            "1/1 [==============================] - 0s 27ms/step\n",
            "1/1 [==============================] - 0s 26ms/step\n",
            "1/1 [==============================] - 0s 25ms/step\n",
            "1/1 [==============================] - 0s 26ms/step\n",
            "1/1 [==============================] - 0s 32ms/step\n",
            "1/1 [==============================] - 0s 27ms/step\n",
            "1/1 [==============================] - 0s 37ms/step\n",
            "1/1 [==============================] - 0s 40ms/step\n",
            "1/1 [==============================] - 0s 44ms/step\n",
            "1/1 [==============================] - 0s 40ms/step\n",
            "1/1 [==============================] - 0s 39ms/step\n",
            "1/1 [==============================] - 0s 39ms/step\n"
          ]
        }
      ]
    },
    {
      "cell_type": "code",
      "source": [
        "plot_predictions(train_y_73, test_y_73, predictions_73, predicted_prices_73)"
      ],
      "metadata": {
        "colab": {
          "base_uri": "https://localhost:8080/",
          "height": 430
        },
        "id": "bq6S7M7_eqpR",
        "outputId": "f77c0584-1f34-46ed-c98f-6ee815810ba0"
      },
      "execution_count": null,
      "outputs": [
        {
          "output_type": "display_data",
          "data": {
            "text/plain": [
              "<Figure size 640x480 with 1 Axes>"
            ],
            "image/png": "[encoded data removed]"
          },
          "metadata": {}
        }
      ]
    },
    {
      "cell_type": "code",
      "source": [
        "train_size = int(0.9 * len(df1))"
      ],
      "metadata": {
        "id": "WXXXb1eVI9Te"
      },
      "execution_count": null,
      "outputs": []
    },
    {
      "cell_type": "code",
      "source": [
        "train_X_91, train_y_91, test_X_91, test_y_91 = create_dataset_with_window(df1, window_size=60)"
      ],
      "metadata": {
        "id": "V5_7lvXZJEUt"
      },
      "execution_count": null,
      "outputs": []
    },
    {
      "cell_type": "code",
      "source": [
        "model.fit(train_X_91, train_y_91, epochs=100, batch_size=64, verbose=1)"
      ],
      "metadata": {
        "colab": {
          "base_uri": "https://localhost:8080/"
        },
        "id": "UMcA2k3IJSVi",
        "outputId": "cc4c9c5e-a29e-4db4-aad2-5a351cdce028"
      },
      "execution_count": null,
      "outputs": [
        {
          "output_type": "stream",
          "name": "stdout",
          "text": [
            "Epoch 1/100\n",
            "25/25 [==============================] - 2s 77ms/step - loss: 5.6085e-04\n",
            "Epoch 2/100\n",
            "25/25 [==============================] - 2s 65ms/step - loss: 4.8305e-04\n",
            "Epoch 3/100\n",
            "25/25 [==============================] - 1s 49ms/step - loss: 4.8300e-04\n",
            "Epoch 4/100\n",
            "25/25 [==============================] - 1s 47ms/step - loss: 4.7446e-04\n",
            "Epoch 5/100\n",
            "25/25 [==============================] - 1s 49ms/step - loss: 4.6798e-04\n",
            "Epoch 6/100\n",
            "25/25 [==============================] - 1s 50ms/step - loss: 4.6290e-04\n",
            "Epoch 7/100\n",
            "25/25 [==============================] - 2s 68ms/step - loss: 4.6338e-04\n",
            "Epoch 8/100\n",
            "25/25 [==============================] - 2s 70ms/step - loss: 5.2582e-04\n",
            "Epoch 9/100\n",
            "25/25 [==============================] - 2s 63ms/step - loss: 4.7164e-04\n",
            "Epoch 10/100\n",
            "25/25 [==============================] - 2s 85ms/step - loss: 4.5991e-04\n",
            "Epoch 11/100\n",
            "25/25 [==============================] - 2s 78ms/step - loss: 4.6582e-04\n",
            "Epoch 12/100\n",
            "25/25 [==============================] - 1s 50ms/step - loss: 4.4942e-04\n",
            "Epoch 13/100\n",
            "25/25 [==============================] - 1s 48ms/step - loss: 4.9438e-04\n",
            "Epoch 14/100\n",
            "25/25 [==============================] - 1s 48ms/step - loss: 4.7084e-04\n",
            "Epoch 15/100\n",
            "25/25 [==============================] - 1s 50ms/step - loss: 4.8472e-04\n",
            "Epoch 16/100\n",
            "25/25 [==============================] - 1s 49ms/step - loss: 4.7355e-04\n",
            "Epoch 17/100\n",
            "25/25 [==============================] - 1s 47ms/step - loss: 4.8325e-04\n",
            "Epoch 18/100\n",
            "25/25 [==============================] - 1s 47ms/step - loss: 4.5976e-04\n",
            "Epoch 19/100\n",
            "25/25 [==============================] - 1s 48ms/step - loss: 4.5106e-04\n",
            "Epoch 20/100\n",
            "25/25 [==============================] - 2s 72ms/step - loss: 4.4413e-04\n",
            "Epoch 21/100\n",
            "25/25 [==============================] - 2s 78ms/step - loss: 4.4916e-04\n",
            "Epoch 22/100\n",
            "25/25 [==============================] - 1s 53ms/step - loss: 4.7154e-04\n",
            "Epoch 23/100\n",
            "25/25 [==============================] - 1s 47ms/step - loss: 4.5124e-04\n",
            "Epoch 24/100\n",
            "25/25 [==============================] - 1s 46ms/step - loss: 5.2895e-04\n",
            "Epoch 25/100\n",
            "25/25 [==============================] - 1s 48ms/step - loss: 5.1159e-04\n",
            "Epoch 26/100\n",
            "25/25 [==============================] - 1s 45ms/step - loss: 6.1988e-04\n",
            "Epoch 27/100\n",
            "25/25 [==============================] - 1s 46ms/step - loss: 5.2761e-04\n",
            "Epoch 28/100\n",
            "25/25 [==============================] - 1s 47ms/step - loss: 4.4925e-04\n",
            "Epoch 29/100\n",
            "25/25 [==============================] - 1s 51ms/step - loss: 4.5517e-04\n",
            "Epoch 30/100\n",
            "25/25 [==============================] - 1s 56ms/step - loss: 4.8188e-04\n",
            "Epoch 31/100\n",
            "25/25 [==============================] - 2s 78ms/step - loss: 4.4116e-04\n",
            "Epoch 32/100\n",
            "25/25 [==============================] - 2s 80ms/step - loss: 4.8163e-04\n",
            "Epoch 33/100\n",
            "25/25 [==============================] - 1s 51ms/step - loss: 4.6422e-04\n",
            "Epoch 34/100\n",
            "25/25 [==============================] - 1s 48ms/step - loss: 4.4510e-04\n",
            "Epoch 35/100\n",
            "25/25 [==============================] - 1s 46ms/step - loss: 4.5738e-04\n",
            "Epoch 36/100\n",
            "25/25 [==============================] - 1s 47ms/step - loss: 4.5774e-04\n",
            "Epoch 37/100\n",
            "25/25 [==============================] - 1s 47ms/step - loss: 4.4718e-04\n",
            "Epoch 38/100\n",
            "25/25 [==============================] - 1s 46ms/step - loss: 4.5745e-04\n",
            "Epoch 39/100\n",
            "25/25 [==============================] - 1s 47ms/step - loss: 4.6483e-04\n",
            "Epoch 40/100\n",
            "25/25 [==============================] - 1s 47ms/step - loss: 4.8483e-04\n",
            "Epoch 41/100\n",
            "25/25 [==============================] - 1s 58ms/step - loss: 4.6625e-04\n",
            "Epoch 42/100\n",
            "25/25 [==============================] - 2s 77ms/step - loss: 4.4522e-04\n",
            "Epoch 43/100\n",
            "25/25 [==============================] - 2s 77ms/step - loss: 4.6502e-04\n",
            "Epoch 44/100\n",
            "25/25 [==============================] - 1s 46ms/step - loss: 4.7738e-04\n",
            "Epoch 45/100\n",
            "25/25 [==============================] - 1s 46ms/step - loss: 4.4313e-04\n",
            "Epoch 46/100\n",
            "25/25 [==============================] - 1s 46ms/step - loss: 4.4218e-04\n",
            "Epoch 47/100\n",
            "25/25 [==============================] - 1s 48ms/step - loss: 4.4705e-04\n",
            "Epoch 48/100\n",
            "25/25 [==============================] - 1s 45ms/step - loss: 4.4586e-04\n",
            "Epoch 49/100\n",
            "25/25 [==============================] - 1s 47ms/step - loss: 4.4462e-04\n",
            "Epoch 50/100\n",
            "25/25 [==============================] - 1s 47ms/step - loss: 4.5893e-04\n",
            "Epoch 51/100\n",
            "25/25 [==============================] - 1s 47ms/step - loss: 4.5130e-04\n",
            "Epoch 52/100\n",
            "25/25 [==============================] - 2s 61ms/step - loss: 5.0574e-04\n",
            "Epoch 53/100\n",
            "25/25 [==============================] - 2s 78ms/step - loss: 4.6678e-04\n",
            "Epoch 54/100\n",
            "25/25 [==============================] - 2s 69ms/step - loss: 4.5311e-04\n",
            "Epoch 55/100\n",
            "25/25 [==============================] - 1s 45ms/step - loss: 4.7881e-04\n",
            "Epoch 56/100\n",
            "25/25 [==============================] - 1s 45ms/step - loss: 4.4956e-04\n",
            "Epoch 57/100\n",
            "25/25 [==============================] - 1s 45ms/step - loss: 4.4762e-04\n",
            "Epoch 58/100\n",
            "25/25 [==============================] - 1s 46ms/step - loss: 4.5234e-04\n",
            "Epoch 59/100\n",
            "25/25 [==============================] - 1s 49ms/step - loss: 4.8103e-04\n",
            "Epoch 60/100\n",
            "25/25 [==============================] - 1s 46ms/step - loss: 4.5167e-04\n",
            "Epoch 61/100\n",
            "25/25 [==============================] - 1s 47ms/step - loss: 4.3230e-04\n",
            "Epoch 62/100\n",
            "25/25 [==============================] - 1s 47ms/step - loss: 4.6056e-04\n",
            "Epoch 63/100\n",
            "25/25 [==============================] - 2s 69ms/step - loss: 4.3467e-04\n",
            "Epoch 64/100\n",
            "25/25 [==============================] - 2s 79ms/step - loss: 4.4814e-04\n",
            "Epoch 65/100\n",
            "25/25 [==============================] - 2s 62ms/step - loss: 4.5230e-04\n",
            "Epoch 66/100\n",
            "25/25 [==============================] - 1s 46ms/step - loss: 4.7518e-04\n",
            "Epoch 67/100\n",
            "25/25 [==============================] - 1s 45ms/step - loss: 5.0175e-04\n",
            "Epoch 68/100\n",
            "25/25 [==============================] - 1s 47ms/step - loss: 4.6228e-04\n",
            "Epoch 69/100\n",
            "25/25 [==============================] - 1s 47ms/step - loss: 4.5819e-04\n",
            "Epoch 70/100\n",
            "25/25 [==============================] - 1s 45ms/step - loss: 4.3835e-04\n",
            "Epoch 71/100\n",
            "25/25 [==============================] - 1s 48ms/step - loss: 4.4834e-04\n",
            "Epoch 72/100\n",
            "25/25 [==============================] - 1s 50ms/step - loss: 4.4054e-04\n",
            "Epoch 73/100\n",
            "25/25 [==============================] - 1s 53ms/step - loss: 4.3215e-04\n",
            "Epoch 74/100\n",
            "25/25 [==============================] - 2s 81ms/step - loss: 4.5082e-04\n",
            "Epoch 75/100\n",
            "25/25 [==============================] - 2s 81ms/step - loss: 4.3947e-04\n",
            "Epoch 76/100\n",
            "25/25 [==============================] - 1s 55ms/step - loss: 4.2963e-04\n",
            "Epoch 77/100\n",
            "25/25 [==============================] - 1s 47ms/step - loss: 4.1703e-04\n",
            "Epoch 78/100\n",
            "25/25 [==============================] - 1s 48ms/step - loss: 4.3504e-04\n",
            "Epoch 79/100\n",
            "25/25 [==============================] - 1s 49ms/step - loss: 4.7102e-04\n",
            "Epoch 80/100\n",
            "25/25 [==============================] - 1s 48ms/step - loss: 4.2849e-04\n",
            "Epoch 81/100\n",
            "25/25 [==============================] - 1s 48ms/step - loss: 4.3249e-04\n",
            "Epoch 82/100\n",
            "25/25 [==============================] - 1s 51ms/step - loss: 4.3721e-04\n",
            "Epoch 83/100\n",
            "25/25 [==============================] - 1s 52ms/step - loss: 4.5510e-04\n",
            "Epoch 84/100\n",
            "25/25 [==============================] - 2s 74ms/step - loss: 4.4108e-04\n",
            "Epoch 85/100\n",
            "25/25 [==============================] - 2s 82ms/step - loss: 4.8063e-04\n",
            "Epoch 86/100\n",
            "25/25 [==============================] - 2s 68ms/step - loss: 4.3576e-04\n",
            "Epoch 87/100\n",
            "25/25 [==============================] - 1s 51ms/step - loss: 4.3108e-04\n",
            "Epoch 88/100\n",
            "25/25 [==============================] - 1s 51ms/step - loss: 4.3154e-04\n",
            "Epoch 89/100\n",
            "25/25 [==============================] - 1s 55ms/step - loss: 4.2638e-04\n",
            "Epoch 90/100\n",
            "25/25 [==============================] - 1s 55ms/step - loss: 4.2906e-04\n",
            "Epoch 91/100\n",
            "25/25 [==============================] - 1s 50ms/step - loss: 5.0340e-04\n",
            "Epoch 92/100\n",
            "25/25 [==============================] - 1s 50ms/step - loss: 4.5919e-04\n",
            "Epoch 93/100\n",
            "25/25 [==============================] - 1s 49ms/step - loss: 4.8453e-04\n",
            "Epoch 94/100\n",
            "25/25 [==============================] - 2s 76ms/step - loss: 5.2067e-04\n",
            "Epoch 95/100\n",
            "25/25 [==============================] - 2s 81ms/step - loss: 4.3500e-04\n",
            "Epoch 96/100\n",
            "25/25 [==============================] - 2s 73ms/step - loss: 4.2008e-04\n",
            "Epoch 97/100\n",
            "25/25 [==============================] - 1s 59ms/step - loss: 4.1577e-04\n",
            "Epoch 98/100\n",
            "25/25 [==============================] - 1s 50ms/step - loss: 4.1886e-04\n",
            "Epoch 99/100\n",
            "25/25 [==============================] - 1s 48ms/step - loss: 4.4198e-04\n",
            "Epoch 100/100\n",
            "25/25 [==============================] - 1s 51ms/step - loss: 4.5032e-04\n"
          ]
        },
        {
          "output_type": "execute_result",
          "data": {
            "text/plain": [
              "<keras.src.callbacks.History at 0x7a36eae9de70>"
            ]
          },
          "metadata": {},
          "execution_count": 27
        }
      ]
    },
    {
      "cell_type": "code",
      "source": [
        "predictions_91 = model.predict(test_X_91)"
      ],
      "metadata": {
        "colab": {
          "base_uri": "https://localhost:8080/"
        },
        "id": "TAUdNOumKB8e",
        "outputId": "d2d07ae3-110a-46c3-b27b-5c9a8d0a8c12"
      },
      "execution_count": null,
      "outputs": [
        {
          "output_type": "stream",
          "name": "stdout",
          "text": [
            "4/4 [==============================] - 0s 13ms/step\n"
          ]
        }
      ]
    },
    {
      "cell_type": "code",
      "source": [
        "predictions_91 = scaler.inverse_transform(predictions_91)\n",
        "test_y_91 = scaler.inverse_transform(test_y_91)"
      ],
      "metadata": {
        "id": "mhTIerKTKFDm"
      },
      "execution_count": null,
      "outputs": []
    },
    {
      "cell_type": "code",
      "source": [
        "test_rmse = np.sqrt(np.mean((predictions_91 - test_y_91)**2))\n",
        "test_mape = np.mean(np.abs((test_y_91 - predictions_91) / test_y_91)) * 100\n",
        "test_mse = np.mean((np.array(test_y_91) - np.array(predictions_91))**2)\n",
        "print('Testing RMSE:', test_rmse)\n",
        "print('Testing MAPE:', test_mape)\n",
        "print('Testing MSE:', test_mse)"
      ],
      "metadata": {
        "colab": {
          "base_uri": "https://localhost:8080/"
        },
        "id": "SGpXlqiQKNoR",
        "outputId": "113054c6-4957-420b-dce4-fa22418bf1de"
      },
      "execution_count": null,
      "outputs": [
        {
          "output_type": "stream",
          "name": "stdout",
          "text": [
            "Testing RMSE: 14.771785374319098\n",
            "Testing MAPE: 4.1036247695373955\n",
            "Testing MSE: 218.20564314494763\n"
          ]
        }
      ]
    },
    {
      "cell_type": "code",
      "source": [
        "df1_restored = pd.DataFrame(df1, columns=['Close'])\n",
        "X_input_91= np.array([df1_restored[-60:]])  # Sử dụng dữ liệu cuối cùng trong tập dữ liệu\n",
        "# Sử dụng mô hình đã huấn luyện để dự đoán giá cổ phiếu cho 30 ngày tiếp theo\n",
        "predicted_prices_91 = []\n",
        "for i in range(30):\n",
        "    # Dự đoán giá cổ phiếu cho một ngày tiếp theo\n",
        "    next_price_91 = model.predict(X_input_91)\n",
        "    predicted_prices_91.append(next_price_91)\n",
        "\n",
        "    # Cập nhật dữ liệu đầu vào cho dự đoán tiếp theo\n",
        "    X_input_91 = np.roll(X_input_91, -1, axis=1)  # Dịch dữ liệu qua trái một bước\n",
        "    X_input_91[0, -1] = next_price_91  # Cập nhật giá dự đoán vào vị trí cuối cùng của dữ liệu đầu vào\n",
        "    i = i + 1"
      ],
      "metadata": {
        "colab": {
          "base_uri": "https://localhost:8080/"
        },
        "id": "OQEIUJgzKdmd",
        "outputId": "25518d1f-119f-491e-d0fc-182a7e18ecc8"
      },
      "execution_count": null,
      "outputs": [
        {
          "output_type": "stream",
          "name": "stdout",
          "text": [
            "1/1 [==============================] - 0s 29ms/step\n",
            "1/1 [==============================] - 0s 32ms/step\n",
            "1/1 [==============================] - 0s 30ms/step\n",
            "1/1 [==============================] - 0s 32ms/step\n",
            "1/1 [==============================] - 0s 28ms/step\n",
            "1/1 [==============================] - 0s 32ms/step\n",
            "1/1 [==============================] - 0s 49ms/step\n",
            "1/1 [==============================] - 0s 35ms/step\n",
            "1/1 [==============================] - 0s 29ms/step\n",
            "1/1 [==============================] - 0s 28ms/step\n",
            "1/1 [==============================] - 0s 31ms/step\n",
            "1/1 [==============================] - 0s 31ms/step\n",
            "1/1 [==============================] - 0s 32ms/step\n",
            "1/1 [==============================] - 0s 30ms/step\n",
            "1/1 [==============================] - 0s 27ms/step\n",
            "1/1 [==============================] - 0s 34ms/step\n",
            "1/1 [==============================] - 0s 32ms/step\n",
            "1/1 [==============================] - 0s 31ms/step\n",
            "1/1 [==============================] - 0s 37ms/step\n",
            "1/1 [==============================] - 0s 32ms/step\n",
            "1/1 [==============================] - 0s 29ms/step\n",
            "1/1 [==============================] - 0s 28ms/step\n",
            "1/1 [==============================] - 0s 33ms/step\n",
            "1/1 [==============================] - 0s 30ms/step\n",
            "1/1 [==============================] - 0s 29ms/step\n",
            "1/1 [==============================] - 0s 43ms/step\n",
            "1/1 [==============================] - 0s 33ms/step\n",
            "1/1 [==============================] - 0s 32ms/step\n",
            "1/1 [==============================] - 0s 31ms/step\n",
            "1/1 [==============================] - 0s 28ms/step\n"
          ]
        }
      ]
    },
    {
      "cell_type": "code",
      "source": [
        "plot_predictions(train_y_91, test_y_91, predictions_91, predicted_prices_91)"
      ],
      "metadata": {
        "colab": {
          "base_uri": "https://localhost:8080/",
          "height": 431
        },
        "id": "QhPcY860K3h_",
        "outputId": "1dd203a2-cdf1-40f8-eef0-a801d68f455a"
      },
      "execution_count": null,
      "outputs": [
        {
          "output_type": "display_data",
          "data": {
            "text/plain": [
              "<Figure size 640x480 with 1 Axes>"
            ],
            "image/png": "[encoded data removed]"
          },
          "metadata": {}
        }
      ]
    }
  ]
}